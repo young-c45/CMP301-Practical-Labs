{
 "cells": [
  {
   "cell_type": "markdown",
   "metadata": {},
   "source": [
    "# COM400 Week 6 Lab: Matrices"
   ]
  },
  {
   "cell_type": "markdown",
   "metadata": {},
   "source": [
    "## Exercise 1 \n",
    "\n",
    "Let\n",
    "\n",
    "$\\mathbf{A} = \\begin{bmatrix} 1 & 4 \\\\ 3 & -1 \\\\ 0 & 7 \\end{bmatrix} \\qquad \\mathbf{B} = \\begin{bmatrix} 2 & 1 & 3 \\\\ -5 & 6 & 1 \\end{bmatrix} \\qquad \\mathbf{C} = \\begin{bmatrix} -3 \\\\ 9 \\\\ 0 \\\\ 9 \\end{bmatrix} \\qquad \\mathbf{D} = \\begin{bmatrix} 2 & 1 & -3 & 0\\\\ -3 & 1 & 5 & 2 \\\\ 1 & -1 & 8 & 4 \\\\ 2 & 4 & -3 & -1 \\end{bmatrix}$\n",
    "\n",
    "(a) Represent each matrix in Python."
   ]
  },
  {
   "cell_type": "code",
   "execution_count": null,
   "metadata": {},
   "outputs": [],
   "source": []
  },
  {
   "cell_type": "markdown",
   "metadata": {},
   "source": [
    "(b) Display the order of each matrix."
   ]
  },
  {
   "cell_type": "code",
   "execution_count": null,
   "metadata": {},
   "outputs": [],
   "source": []
  },
  {
   "cell_type": "markdown",
   "metadata": {},
   "source": [
    "(c) Display the transpose of each matrix."
   ]
  },
  {
   "cell_type": "code",
   "execution_count": null,
   "metadata": {},
   "outputs": [],
   "source": []
  },
  {
   "cell_type": "markdown",
   "metadata": {},
   "source": [
    "(d) What is $\\mathbf{A} + \\mathbf{B}^T$?"
   ]
  },
  {
   "cell_type": "code",
   "execution_count": null,
   "metadata": {},
   "outputs": [],
   "source": []
  },
  {
   "cell_type": "markdown",
   "metadata": {},
   "source": [
    "(e) What is $\\mathbf{D}^T - 2\\mathbf{D}$?"
   ]
  },
  {
   "cell_type": "code",
   "execution_count": null,
   "metadata": {},
   "outputs": [],
   "source": []
  },
  {
   "cell_type": "markdown",
   "metadata": {},
   "source": [
    "(f) Print out:\n",
    "- the value of $b_{22}$\n",
    "- the value of $d_{12}$\n",
    "- the last row of $\\mathbf{A}$\n",
    "- the third column of $\\mathbf{D}$"
   ]
  },
  {
   "cell_type": "code",
   "execution_count": null,
   "metadata": {},
   "outputs": [],
   "source": []
  },
  {
   "cell_type": "markdown",
   "metadata": {},
   "source": [
    "(g) The sum of elements along the leading diagonal of a square matrix is called the **trace**. Calculate the trace of $\\mathbf{D}$ by:\n",
    "- accessing the values of the relevant elements and summing them up\n",
    "- using the `trace` funcion from `numpy`"
   ]
  },
  {
   "cell_type": "code",
   "execution_count": null,
   "metadata": {},
   "outputs": [],
   "source": []
  },
  {
   "cell_type": "markdown",
   "metadata": {},
   "source": [
    "## Exercise 2\n",
    "If possible carry out the following matrix multiplications based on the matrices from Exercise 1.\n",
    "\n",
    "(a) $\\mathbf{BD}$"
   ]
  },
  {
   "cell_type": "code",
   "execution_count": null,
   "metadata": {},
   "outputs": [],
   "source": []
  },
  {
   "cell_type": "markdown",
   "metadata": {},
   "source": [
    "(b) $\\mathbf{D}^T\\mathbf{C}$"
   ]
  },
  {
   "cell_type": "code",
   "execution_count": null,
   "metadata": {},
   "outputs": [],
   "source": []
  },
  {
   "cell_type": "markdown",
   "metadata": {},
   "source": [
    "(c) $\\mathbf{CC}^T$"
   ]
  },
  {
   "cell_type": "code",
   "execution_count": null,
   "metadata": {},
   "outputs": [],
   "source": []
  },
  {
   "cell_type": "markdown",
   "metadata": {},
   "source": [
    "(d) $\\mathbf{C}^T\\mathbf{C}$"
   ]
  },
  {
   "cell_type": "code",
   "execution_count": null,
   "metadata": {},
   "outputs": [],
   "source": []
  },
  {
   "cell_type": "markdown",
   "metadata": {},
   "source": [
    "(d) $\\mathbf{D}^2$, $\\mathbf{D}^3$, $\\mathbf{D}^4$, $\\mathbf{D}^5$"
   ]
  },
  {
   "cell_type": "code",
   "execution_count": null,
   "metadata": {},
   "outputs": [],
   "source": []
  },
  {
   "cell_type": "markdown",
   "metadata": {},
   "source": [
    "(e) Show that $\\mathbf{AB} \\neq \\mathbf{BA}$"
   ]
  },
  {
   "cell_type": "code",
   "execution_count": null,
   "metadata": {},
   "outputs": [],
   "source": []
  },
  {
   "cell_type": "markdown",
   "metadata": {},
   "source": [
    "(f) Show that $(\\mathbf{AB})^T = \\mathbf{B}^T\\mathbf{A}^T$"
   ]
  },
  {
   "cell_type": "code",
   "execution_count": null,
   "metadata": {},
   "outputs": [],
   "source": []
  },
  {
   "cell_type": "markdown",
   "metadata": {},
   "source": [
    "(g) Let \n",
    "\n",
    "$E = \\begin{bmatrix} 2 & 2 \\\\ 1 & 5 \\\\ 4 & 3 \\end{bmatrix}$\n",
    "\n",
    "Show that $\\mathbf{A}(\\mathbf{BE}) = (\\mathbf{AB})\\mathbf{E}$"
   ]
  },
  {
   "cell_type": "code",
   "execution_count": null,
   "metadata": {},
   "outputs": [],
   "source": []
  },
  {
   "cell_type": "markdown",
   "metadata": {},
   "source": [
    "## Exercise 3 \n",
    "Show how you would create the following matrices using special functions rather than having to list all the values in your code. \n",
    "\n",
    "(a) $$\\mathbf{G} = \\begin{pmatrix} 7 & 7 & 7 & 7 & 7\\\\ 7 & 7 & 7 & 7 & 7\\\\ 7 & 7 & 7 & 7 & 7\\\\ 7 & 7 & 7 & 7 & 7\\\\ 7 & 7 & 7 & 7 & 7\\end{pmatrix}$$"
   ]
  },
  {
   "cell_type": "code",
   "execution_count": null,
   "metadata": {},
   "outputs": [],
   "source": []
  },
  {
   "cell_type": "markdown",
   "metadata": {},
   "source": [
    "(b) $$\\mathbf{H} = \\begin{pmatrix} \n",
    "2 & -1 & -1 & -1 & -1 & -1 & -1 & -1 & -1 & -1\\\\ \n",
    "-1 & 2 & -1 & -1 & -1 & -1 & -1 & -1 & -1 & -1\\\\\n",
    "-1 & -1 & 2 & -1 & -1 & -1 & -1 & -1 & -1 & -1\\\\\n",
    "-1 & -1 & -1 & 2 & -1 & -1 & -1 & -1 & -1 & -1\\\\\n",
    "-1 & -1 & -1 & -1 & 2 & -1 & -1 & -1 & -1 & -1\\\\\n",
    "-1 & -1 & -1 & -1 & -1 & 2 & -1 & -1 & -1 & -1\\\\\n",
    "-1 & -1 & -1 & -1 & -1 & -1 & 2 & -1 & -1 & -1\\\\\n",
    "-1 & -1 & -1 & -1 & -1 & -1 & -1 & 2 & -1 & -1\\\\\n",
    "-1 & -1 & -1 & -1 & -1 & -1 & -1 & -1 & 2 & -1\\\\\n",
    "-1 & -1 & -1 & -1 & -1 & -1 & -1 & -1 & -1 & 2\\\\\n",
    "\\end{pmatrix}$$"
   ]
  },
  {
   "cell_type": "code",
   "execution_count": null,
   "metadata": {},
   "outputs": [],
   "source": []
  },
  {
   "cell_type": "markdown",
   "metadata": {},
   "source": [
    "(c) $$\\mathbf{K} = \\begin{pmatrix} \n",
    "2 & 1 & 0 & 0 & 0 & 0\\\\ \n",
    "1 & 2 & 1 & 0 & 0 & 0\\\\\n",
    "0 & 1 & 2 & 1 & 0 & 0\\\\\n",
    "0 & 0 & 1 & 2 & 1 & 0\\\\\n",
    "0 & 0 & 0 & 1 & 2 & 1\\\\\n",
    "0 & 0 & 0 & 0 & 1 & 2\\\\\n",
    "\\end{pmatrix}$$"
   ]
  },
  {
   "cell_type": "code",
   "execution_count": null,
   "metadata": {},
   "outputs": [],
   "source": []
  },
  {
   "cell_type": "markdown",
   "metadata": {},
   "source": [
    "## Exercise 4\n",
    "(a) Find the determinant of each of the matrices in Exercise 3."
   ]
  },
  {
   "cell_type": "code",
   "execution_count": null,
   "metadata": {},
   "outputs": [],
   "source": []
  },
  {
   "cell_type": "markdown",
   "metadata": {},
   "source": [
    "(b) If possible, find the inverse of each matrix in Exercise 3."
   ]
  },
  {
   "cell_type": "code",
   "execution_count": null,
   "metadata": {},
   "outputs": [],
   "source": []
  },
  {
   "cell_type": "markdown",
   "metadata": {},
   "source": [
    "## Exercise 5\n",
    "(a) Solve the following set of linear equations for $x$, $y$ and $z$:\n",
    "\n",
    "\\begin{align}\n",
    "x + y + z & = 3 \\\\\n",
    "2x  + 7y + 2z & = 15 \\\\\n",
    "-3x + 4y + z & = 0\n",
    "\\end{align}"
   ]
  },
  {
   "cell_type": "code",
   "execution_count": null,
   "metadata": {},
   "outputs": [],
   "source": []
  },
  {
   "cell_type": "markdown",
   "metadata": {},
   "source": [
    "(b) Suppose a cinema ticket costs £9 for an adult and £5 for a child. Suppose in one hour, 34 tickets sold for £290. \n",
    "\n",
    "Represent this as a set of simultaneous equations, and use matrices to determine how many adult tickets and child tickets were sold.\n"
   ]
  },
  {
   "cell_type": "markdown",
   "metadata": {},
   "source": []
  },
  {
   "cell_type": "code",
   "execution_count": null,
   "metadata": {},
   "outputs": [],
   "source": []
  }
 ],
 "metadata": {
  "kernelspec": {
   "display_name": "Python 3 (ipykernel)",
   "language": "python",
   "name": "python3"
  },
  "language_info": {
   "codemirror_mode": {
    "name": "ipython",
    "version": 3
   },
   "file_extension": ".py",
   "mimetype": "text/x-python",
   "name": "python",
   "nbconvert_exporter": "python",
   "pygments_lexer": "ipython3",
   "version": "3.9.13"
  },
  "toc": {
   "colors": {
    "hover_highlight": "#DAA520",
    "navigate_num": "#000000",
    "navigate_text": "#333333",
    "running_highlight": "#FF0000",
    "selected_highlight": "#FFD700",
    "sidebar_border": "#EEEEEE",
    "wrapper_background": "#FFFFFF"
   },
   "moveMenuLeft": true,
   "nav_menu": {
    "height": "253.41px",
    "width": "252px"
   },
   "navigate_menu": true,
   "number_sections": true,
   "sideBar": true,
   "threshold": 4,
   "toc_cell": false,
   "toc_section_display": "block",
   "toc_window_display": false,
   "widenNotebook": false
  }
 },
 "nbformat": 4,
 "nbformat_minor": 2
}
