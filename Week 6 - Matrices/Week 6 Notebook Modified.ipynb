{
 "cells": [
  {
   "cell_type": "markdown",
   "metadata": {},
   "source": [
    "# COM400 Week 6 Lab: Matrices"
   ]
  },
  {
   "cell_type": "markdown",
   "metadata": {},
   "source": [
    "## Exercise 1 \n",
    "\n",
    "Let\n",
    "\n",
    "$\\mathbf{A} = \\begin{bmatrix} 1 & 4 \\\\ 3 & -1 \\\\ 0 & 7 \\end{bmatrix} \\qquad \\mathbf{B} = \\begin{bmatrix} 2 & 1 & 3 \\\\ -5 & 6 & 1 \\end{bmatrix} \\qquad \\mathbf{C} = \\begin{bmatrix} -3 \\\\ 9 \\\\ 0 \\\\ 9 \\end{bmatrix} \\qquad \\mathbf{D} = \\begin{bmatrix} 2 & 1 & -3 & 0\\\\ -3 & 1 & 5 & 2 \\\\ 1 & -1 & 8 & 4 \\\\ 2 & 4 & -3 & -1 \\end{bmatrix}$\n",
    "\n",
    "(a) Represent each matrix in Python."
   ]
  },
  {
   "cell_type": "code",
   "execution_count": 1,
   "metadata": {},
   "outputs": [
    {
     "name": "stdout",
     "output_type": "stream",
     "text": [
      "A = \n",
      " [[ 1  4]\n",
      " [ 3 -1]\n",
      " [ 0  7]]\n",
      "B = \n",
      " [[ 2  1  3]\n",
      " [-5  6  1]]\n",
      "C = \n",
      " [[-3]\n",
      " [ 9]\n",
      " [ 0]\n",
      " [ 9]]\n",
      "D = \n",
      " [[ 2  1 -3  0]\n",
      " [-3  1  5  2]\n",
      " [ 1 -1  8  4]\n",
      " [ 2  4 -3 -1]]\n"
     ]
    }
   ],
   "source": [
    "# Imports NumPy\n",
    "import numpy as np\n",
    "\n",
    "# Creates matricies\n",
    "A = np.array([[1,4],[3,-1],[0,7]])\n",
    "B = np.array([[2,1,3],[-5,6,1]])\n",
    "C = np.array([[-3],[9],[0],[9]])\n",
    "D = np.array([[2,1,-3,0],[-3,1,5,2],[1,-1,8,4],[2,4,-3,-1]])\n",
    "\n",
    "# Displays matrices\n",
    "print(\"A = \\n\", A)\n",
    "print(\"B = \\n\", B)\n",
    "print(\"C = \\n\", C)\n",
    "print(\"D = \\n\", D)"
   ]
  },
  {
   "cell_type": "markdown",
   "metadata": {},
   "source": [
    "(b) Display the order of each matrix."
   ]
  },
  {
   "cell_type": "code",
   "execution_count": 2,
   "metadata": {},
   "outputs": [
    {
     "name": "stdout",
     "output_type": "stream",
     "text": [
      "A has the order (3, 2)\n",
      "B has the order (2, 3)\n",
      "C has the order (4, 1)\n",
      "D has the order (4, 4)\n"
     ]
    }
   ],
   "source": [
    "print(\"A has the order\", A.shape)\n",
    "print(\"B has the order\", B.shape)\n",
    "print(\"C has the order\", C.shape)\n",
    "print(\"D has the order\", D.shape)"
   ]
  },
  {
   "cell_type": "markdown",
   "metadata": {},
   "source": [
    "(c) Display the transpose of each matrix."
   ]
  },
  {
   "cell_type": "code",
   "execution_count": 3,
   "metadata": {},
   "outputs": [
    {
     "name": "stdout",
     "output_type": "stream",
     "text": [
      "Transpose of A\n",
      " [[ 1  3  0]\n",
      " [ 4 -1  7]]\n",
      "Transpose of B\n",
      " [[ 2 -5]\n",
      " [ 1  6]\n",
      " [ 3  1]]\n",
      "Transpose of C\n",
      " [[-3  9  0  9]]\n",
      "Transpose of D\n",
      " [[ 2 -3  1  2]\n",
      " [ 1  1 -1  4]\n",
      " [-3  5  8 -3]\n",
      " [ 0  2  4 -1]]\n"
     ]
    }
   ],
   "source": [
    "print(\"Transpose of A\\n\", A.T)\n",
    "print(\"Transpose of B\\n\", B.T)\n",
    "print(\"Transpose of C\\n\", C.T)\n",
    "print(\"Transpose of D\\n\", D.T)"
   ]
  },
  {
   "cell_type": "markdown",
   "metadata": {},
   "source": [
    "(d) What is $\\mathbf{A} + \\mathbf{B}^T$?"
   ]
  },
  {
   "cell_type": "code",
   "execution_count": 4,
   "metadata": {},
   "outputs": [
    {
     "name": "stdout",
     "output_type": "stream",
     "text": [
      "A + B^T =\n",
      " [[ 3 -1]\n",
      " [ 4  5]\n",
      " [ 3  8]]\n"
     ]
    }
   ],
   "source": [
    "print(\"A + B^T =\\n\", A+B.T)"
   ]
  },
  {
   "cell_type": "markdown",
   "metadata": {},
   "source": [
    "(e) What is $\\mathbf{D}^T - 2\\mathbf{D}$?"
   ]
  },
  {
   "cell_type": "code",
   "execution_count": 5,
   "metadata": {},
   "outputs": [
    {
     "name": "stdout",
     "output_type": "stream",
     "text": [
      "D^T - 2D =\n",
      " [[ -2  -5   7   2]\n",
      " [  7  -1 -11   0]\n",
      " [ -5   7  -8 -11]\n",
      " [ -4  -6  10   1]]\n"
     ]
    }
   ],
   "source": [
    "print(\"D^T - 2D =\\n\", D.T-(2*D))"
   ]
  },
  {
   "cell_type": "markdown",
   "metadata": {},
   "source": [
    "(f) Print out:\n",
    "- the value of $b_{22}$\n",
    "- the value of $d_{12}$\n",
    "- the last row of $\\mathbf{A}$\n",
    "- the third column of $\\mathbf{D}$"
   ]
  },
  {
   "cell_type": "code",
   "execution_count": 6,
   "metadata": {},
   "outputs": [
    {
     "name": "stdout",
     "output_type": "stream",
     "text": [
      "b22 = 6\n",
      "d12 = 1\n",
      "Last row of A = [0 7]\n",
      "Third column of D =\n",
      " [-3  5  8 -3]\n"
     ]
    }
   ],
   "source": [
    "print(\"b22 =\", B[1,1])\n",
    "print(\"d12 =\", D[0,1])\n",
    "print(\"Last row of A =\", A[-1,:])\n",
    "print(\"Third column of D =\\n\", D[:,2])"
   ]
  },
  {
   "cell_type": "markdown",
   "metadata": {},
   "source": [
    "(g) The sum of elements along the leading diagonal of a square matrix is called the **trace**. Calculate the trace of $\\mathbf{D}$ by:\n",
    "- accessing the values of the relevant elements and summing them up\n",
    "- using the `trace` funcion from `numpy`"
   ]
  },
  {
   "cell_type": "code",
   "execution_count": 7,
   "metadata": {},
   "outputs": [
    {
     "name": "stdout",
     "output_type": "stream",
     "text": [
      "The trace of D:\n",
      "\tfrom loop = 10\n",
      "\tfrom NumPy = 10\n"
     ]
    }
   ],
   "source": [
    "# Declares sum variable\n",
    "sum = 0\n",
    "# Runs for each row in D\n",
    "for i in range(D.shape[0]):\n",
    "    # Adds needed value to sum\n",
    "    sum += D[i,i]\n",
    "# Outputs the result\n",
    "print(\"The trace of D:\")\n",
    "print(\"\\tfrom loop =\", sum)\n",
    "print(\"\\tfrom NumPy =\", np.trace(D))"
   ]
  },
  {
   "cell_type": "markdown",
   "metadata": {},
   "source": [
    "## Exercise 2\n",
    "If possible carry out the following matrix multiplications based on the matrices from Exercise 1."
   ]
  },
  {
   "cell_type": "code",
   "execution_count": 8,
   "metadata": {},
   "outputs": [],
   "source": [
    "def multiplyMatrices(X, Y):\n",
    "    # Returns error if matrices cannot be multiplied together\n",
    "    if X.shape[1] != Y.shape[0]:\n",
    "        return \"Matricies cannot be multiplied together\"\n",
    "    # Otherwise returns the calculation\n",
    "    else:\n",
    "        return X @ Y"
   ]
  },
  {
   "cell_type": "markdown",
   "metadata": {},
   "source": [
    "(a) $\\mathbf{BD}$"
   ]
  },
  {
   "cell_type": "code",
   "execution_count": 9,
   "metadata": {},
   "outputs": [
    {
     "name": "stdout",
     "output_type": "stream",
     "text": [
      "BD =\n",
      " Matricies cannot be multiplied together\n"
     ]
    }
   ],
   "source": [
    "print(\"BD =\\n\", multiplyMatrices(B, D))"
   ]
  },
  {
   "cell_type": "markdown",
   "metadata": {},
   "source": [
    "(b) $\\mathbf{D}^T\\mathbf{C}$"
   ]
  },
  {
   "cell_type": "code",
   "execution_count": 10,
   "metadata": {},
   "outputs": [
    {
     "name": "stdout",
     "output_type": "stream",
     "text": [
      "(D^T)C =\n",
      " [[-15]\n",
      " [ 42]\n",
      " [ 27]\n",
      " [  9]]\n"
     ]
    }
   ],
   "source": [
    "print(\"(D^T)C =\\n\", multiplyMatrices(D.T, C))"
   ]
  },
  {
   "cell_type": "markdown",
   "metadata": {},
   "source": [
    "(c) $\\mathbf{CC}^T$"
   ]
  },
  {
   "cell_type": "code",
   "execution_count": 11,
   "metadata": {},
   "outputs": [
    {
     "name": "stdout",
     "output_type": "stream",
     "text": [
      "C(C^T) =\n",
      " [[  9 -27   0 -27]\n",
      " [-27  81   0  81]\n",
      " [  0   0   0   0]\n",
      " [-27  81   0  81]]\n"
     ]
    }
   ],
   "source": [
    "print(\"C(C^T) =\\n\", multiplyMatrices(C, C.T))"
   ]
  },
  {
   "cell_type": "markdown",
   "metadata": {},
   "source": [
    "(d) $\\mathbf{C}^T\\mathbf{C}$"
   ]
  },
  {
   "cell_type": "code",
   "execution_count": 12,
   "metadata": {},
   "outputs": [
    {
     "name": "stdout",
     "output_type": "stream",
     "text": [
      "(C^T)C =\n",
      " [[171]]\n"
     ]
    }
   ],
   "source": [
    "print(\"(C^T)C =\\n\", multiplyMatrices(C.T, C))"
   ]
  },
  {
   "cell_type": "markdown",
   "metadata": {},
   "source": [
    "(d) $\\mathbf{D}^2$, $\\mathbf{D}^3$, $\\mathbf{D}^4$, $\\mathbf{D}^5$"
   ]
  },
  {
   "cell_type": "code",
   "execution_count": 13,
   "metadata": {},
   "outputs": [
    {
     "name": "stdout",
     "output_type": "stream",
     "text": [
      "D^2 =\n",
      " [[ -2   6 -25 -10]\n",
      " [  0   1  48  20]\n",
      " [ 21   8  44  26]\n",
      " [-13   5  -7  -3]]\n",
      "D^3 =\n",
      " [[ -67  -11 -134  -78]\n",
      " [  85   33  329  174]\n",
      " [ 114   89  251  166]\n",
      " [ -54  -13   17  -15]]\n",
      "D^4 =\n",
      " [[-391 -256 -692 -480]\n",
      " [ 748  485 2020 1208]\n",
      " [ 544  616 1613 1016]\n",
      " [ -82 -144  278   57]]\n",
      "D^5 =\n",
      " [[-1666 -1875 -4203 -2800]\n",
      " [ 4477  4045 12717  7842]\n",
      " [ 2885  3611 11304  6668]\n",
      " [  660  -276  1579   767]]\n"
     ]
    }
   ],
   "source": [
    "print(\"D^2 =\\n\", np.linalg.matrix_power(D, 2))\n",
    "print(\"D^3 =\\n\", np.linalg.matrix_power(D, 3))\n",
    "print(\"D^4 =\\n\", np.linalg.matrix_power(D, 4))\n",
    "print(\"D^5 =\\n\", np.linalg.matrix_power(D, 5))"
   ]
  },
  {
   "cell_type": "markdown",
   "metadata": {},
   "source": [
    "(e) Show that $\\mathbf{AB} \\neq \\mathbf{BA}$"
   ]
  },
  {
   "cell_type": "code",
   "execution_count": 14,
   "metadata": {},
   "outputs": [
    {
     "name": "stdout",
     "output_type": "stream",
     "text": [
      "AB =\n",
      " [[-18  25   7]\n",
      " [ 11  -3   8]\n",
      " [-35  42   7]]\n",
      "BA =\n",
      " [[  5  28]\n",
      " [ 13 -19]]\n",
      "Therefore AB ≠ BA\n"
     ]
    }
   ],
   "source": [
    "print(\"AB =\\n\", multiplyMatrices(A, B))\n",
    "print(\"BA =\\n\", multiplyMatrices(B, A))\n",
    "print(\"Therefore AB ≠ BA\")"
   ]
  },
  {
   "cell_type": "markdown",
   "metadata": {},
   "source": [
    "(f) Show that $(\\mathbf{AB})^T = \\mathbf{B}^T\\mathbf{A}^T$"
   ]
  },
  {
   "cell_type": "code",
   "execution_count": 15,
   "metadata": {},
   "outputs": [
    {
     "name": "stdout",
     "output_type": "stream",
     "text": [
      "(AB)^T =\n",
      " [[-18  11 -35]\n",
      " [ 25  -3  42]\n",
      " [  7   8   7]]\n",
      "(B^T)(A^T) =\n",
      " [[-18  11 -35]\n",
      " [ 25  -3  42]\n",
      " [  7   8   7]]\n",
      "Therefore (AB)^T = (B^T)(A^T)\n"
     ]
    }
   ],
   "source": [
    "print(\"(AB)^T =\\n\", multiplyMatrices(A, B).T)\n",
    "print(\"(B^T)(A^T) =\\n\", multiplyMatrices(B.T, A.T))\n",
    "print(\"Therefore (AB)^T = (B^T)(A^T)\")"
   ]
  },
  {
   "cell_type": "markdown",
   "metadata": {},
   "source": [
    "(g) Let \n",
    "\n",
    "$E = \\begin{bmatrix} 2 & 2 \\\\ 1 & 5 \\\\ 4 & 3 \\end{bmatrix}$\n",
    "\n",
    "Show that $\\mathbf{A}(\\mathbf{BE}) = (\\mathbf{AB})\\mathbf{E}$"
   ]
  },
  {
   "cell_type": "code",
   "execution_count": 16,
   "metadata": {},
   "outputs": [
    {
     "name": "stdout",
     "output_type": "stream",
     "text": [
      "A(BE) =\n",
      " [[ 17 110]\n",
      " [ 51  31]\n",
      " [  0 161]]\n",
      "(AB)E =\n",
      " [[ 17 110]\n",
      " [ 51  31]\n",
      " [  0 161]]\n",
      "Therefore A(BE) = (AB)E\n"
     ]
    }
   ],
   "source": [
    "E = np.array([[2,2],[1,5],[4,3]])\n",
    "\n",
    "print(\"A(BE) =\\n\", multiplyMatrices(A, multiplyMatrices(B, E)))\n",
    "print(\"(AB)E =\\n\", multiplyMatrices(multiplyMatrices(A, B), E))\n",
    "print(\"Therefore A(BE) = (AB)E\")"
   ]
  },
  {
   "cell_type": "markdown",
   "metadata": {},
   "source": [
    "## Exercise 3 \n",
    "Show how you would create the following matrices using special functions rather than having to list all the values in your code. \n",
    "\n",
    "(a) $$\\mathbf{G} = \\begin{pmatrix} 7 & 7 & 7 & 7 & 7\\\\ 7 & 7 & 7 & 7 & 7\\\\ 7 & 7 & 7 & 7 & 7\\\\ 7 & 7 & 7 & 7 & 7\\\\ 7 & 7 & 7 & 7 & 7\\end{pmatrix}$$"
   ]
  },
  {
   "cell_type": "code",
   "execution_count": 17,
   "metadata": {},
   "outputs": [
    {
     "name": "stdout",
     "output_type": "stream",
     "text": [
      "G =\n",
      " [[7. 7. 7. 7. 7.]\n",
      " [7. 7. 7. 7. 7.]\n",
      " [7. 7. 7. 7. 7.]\n",
      " [7. 7. 7. 7. 7.]\n",
      " [7. 7. 7. 7. 7.]]\n"
     ]
    }
   ],
   "source": [
    "G = 7 * np.ones((5,5))\n",
    "print(\"G =\\n\", G)"
   ]
  },
  {
   "cell_type": "markdown",
   "metadata": {},
   "source": [
    "(b) $$\\mathbf{H} = \\begin{pmatrix} \n",
    "2 & -1 & -1 & -1 & -1 & -1 & -1 & -1 & -1 & -1\\\\ \n",
    "-1 & 2 & -1 & -1 & -1 & -1 & -1 & -1 & -1 & -1\\\\\n",
    "-1 & -1 & 2 & -1 & -1 & -1 & -1 & -1 & -1 & -1\\\\\n",
    "-1 & -1 & -1 & 2 & -1 & -1 & -1 & -1 & -1 & -1\\\\\n",
    "-1 & -1 & -1 & -1 & 2 & -1 & -1 & -1 & -1 & -1\\\\\n",
    "-1 & -1 & -1 & -1 & -1 & 2 & -1 & -1 & -1 & -1\\\\\n",
    "-1 & -1 & -1 & -1 & -1 & -1 & 2 & -1 & -1 & -1\\\\\n",
    "-1 & -1 & -1 & -1 & -1 & -1 & -1 & 2 & -1 & -1\\\\\n",
    "-1 & -1 & -1 & -1 & -1 & -1 & -1 & -1 & 2 & -1\\\\\n",
    "-1 & -1 & -1 & -1 & -1 & -1 & -1 & -1 & -1 & 2\\\\\n",
    "\\end{pmatrix}$$"
   ]
  },
  {
   "cell_type": "code",
   "execution_count": 18,
   "metadata": {},
   "outputs": [
    {
     "name": "stdout",
     "output_type": "stream",
     "text": [
      "H =\n",
      " [[ 2. -1. -1. -1. -1. -1. -1. -1. -1. -1.]\n",
      " [-1.  2. -1. -1. -1. -1. -1. -1. -1. -1.]\n",
      " [-1. -1.  2. -1. -1. -1. -1. -1. -1. -1.]\n",
      " [-1. -1. -1.  2. -1. -1. -1. -1. -1. -1.]\n",
      " [-1. -1. -1. -1.  2. -1. -1. -1. -1. -1.]\n",
      " [-1. -1. -1. -1. -1.  2. -1. -1. -1. -1.]\n",
      " [-1. -1. -1. -1. -1. -1.  2. -1. -1. -1.]\n",
      " [-1. -1. -1. -1. -1. -1. -1.  2. -1. -1.]\n",
      " [-1. -1. -1. -1. -1. -1. -1. -1.  2. -1.]\n",
      " [-1. -1. -1. -1. -1. -1. -1. -1. -1.  2.]]\n"
     ]
    }
   ],
   "source": [
    "H = (3 * np.eye(10)) - np.ones((10,10))\n",
    "print(\"H =\\n\", H)"
   ]
  },
  {
   "cell_type": "markdown",
   "metadata": {},
   "source": [
    "(c) $$\\mathbf{K} = \\begin{pmatrix} \n",
    "2 & 1 & 0 & 0 & 0 & 0\\\\ \n",
    "1 & 2 & 1 & 0 & 0 & 0\\\\\n",
    "0 & 1 & 2 & 1 & 0 & 0\\\\\n",
    "0 & 0 & 1 & 2 & 1 & 0\\\\\n",
    "0 & 0 & 0 & 1 & 2 & 1\\\\\n",
    "0 & 0 & 0 & 0 & 1 & 2\\\\\n",
    "\\end{pmatrix}$$"
   ]
  },
  {
   "cell_type": "code",
   "execution_count": 19,
   "metadata": {},
   "outputs": [
    {
     "name": "stdout",
     "output_type": "stream",
     "text": [
      "K =\n",
      " [[2. 1. 0. 0. 0. 0.]\n",
      " [1. 2. 1. 0. 0. 0.]\n",
      " [0. 1. 2. 1. 0. 0.]\n",
      " [0. 0. 1. 2. 1. 0.]\n",
      " [0. 0. 0. 1. 2. 1.]\n",
      " [0. 0. 0. 0. 1. 2.]]\n"
     ]
    }
   ],
   "source": [
    "K = np.eye(6) + np.diag(np.array([1,1,1,1,1,1])) + np.diag(np.array([1,1,1,1,1]), k=1) + np.diag(np.array([1,1,1,1,1]), k=-1)\n",
    "print(\"K =\\n\", K)"
   ]
  },
  {
   "cell_type": "markdown",
   "metadata": {},
   "source": [
    "## Exercise 4\n",
    "(a) Find the determinant of each of the matrices in Exercise 3."
   ]
  },
  {
   "cell_type": "code",
   "execution_count": 20,
   "metadata": {},
   "outputs": [
    {
     "name": "stdout",
     "output_type": "stream",
     "text": [
      "Determinant of G = 0.0\n",
      "Determinant of H = -137781.00000000003\n",
      "Determinant of K = 6.999999999999998\n"
     ]
    }
   ],
   "source": [
    "print(\"Determinant of G =\", np.linalg.det(G))\n",
    "print(\"Determinant of H =\", np.linalg.det(H))\n",
    "print(\"Determinant of K =\", np.linalg.det(K))"
   ]
  },
  {
   "cell_type": "markdown",
   "metadata": {},
   "source": [
    "(b) If possible, find the inverse of each matrix in Exercise 3."
   ]
  },
  {
   "cell_type": "code",
   "execution_count": 21,
   "metadata": {},
   "outputs": [
    {
     "name": "stdout",
     "output_type": "stream",
     "text": [
      "The inverse of G is\n",
      " Impossible\n",
      "The inverse of H is\n",
      " [[ 0.28571429 -0.04761905 -0.04761905 -0.04761905 -0.04761905 -0.04761905\n",
      "  -0.04761905 -0.04761905 -0.04761905 -0.04761905]\n",
      " [-0.04761905  0.28571429 -0.04761905 -0.04761905 -0.04761905 -0.04761905\n",
      "  -0.04761905 -0.04761905 -0.04761905 -0.04761905]\n",
      " [-0.04761905 -0.04761905  0.28571429 -0.04761905 -0.04761905 -0.04761905\n",
      "  -0.04761905 -0.04761905 -0.04761905 -0.04761905]\n",
      " [-0.04761905 -0.04761905 -0.04761905  0.28571429 -0.04761905 -0.04761905\n",
      "  -0.04761905 -0.04761905 -0.04761905 -0.04761905]\n",
      " [-0.04761905 -0.04761905 -0.04761905 -0.04761905  0.28571429 -0.04761905\n",
      "  -0.04761905 -0.04761905 -0.04761905 -0.04761905]\n",
      " [-0.04761905 -0.04761905 -0.04761905 -0.04761905 -0.04761905  0.28571429\n",
      "  -0.04761905 -0.04761905 -0.04761905 -0.04761905]\n",
      " [-0.04761905 -0.04761905 -0.04761905 -0.04761905 -0.04761905 -0.04761905\n",
      "   0.28571429 -0.04761905 -0.04761905 -0.04761905]\n",
      " [-0.04761905 -0.04761905 -0.04761905 -0.04761905 -0.04761905 -0.04761905\n",
      "  -0.04761905  0.28571429 -0.04761905 -0.04761905]\n",
      " [-0.04761905 -0.04761905 -0.04761905 -0.04761905 -0.04761905 -0.04761905\n",
      "  -0.04761905 -0.04761905  0.28571429 -0.04761905]\n",
      " [-0.04761905 -0.04761905 -0.04761905 -0.04761905 -0.04761905 -0.04761905\n",
      "  -0.04761905 -0.04761905 -0.04761905  0.28571429]]\n",
      "The inverse of K is\n",
      " [[ 0.85714286 -0.71428571  0.57142857 -0.42857143  0.28571429 -0.14285714]\n",
      " [-0.71428571  1.42857143 -1.14285714  0.85714286 -0.57142857  0.28571429]\n",
      " [ 0.57142857 -1.14285714  1.71428571 -1.28571429  0.85714286 -0.42857143]\n",
      " [-0.42857143  0.85714286 -1.28571429  1.71428571 -1.14285714  0.57142857]\n",
      " [ 0.28571429 -0.57142857  0.85714286 -1.14285714  1.42857143 -0.71428571]\n",
      " [-0.14285714  0.28571429 -0.42857143  0.57142857 -0.71428571  0.85714286]]\n"
     ]
    }
   ],
   "source": [
    "def findInverse(X):\n",
    "    # Returns error if determinant is 0\n",
    "    if np.linalg.det(X) == 0.0:\n",
    "        return \"Impossible\"\n",
    "    # Otherwise return the inverse\n",
    "    else:\n",
    "        return np.linalg.inv(X)\n",
    "\n",
    "print(\"The inverse of G is\\n\", findInverse(G))\n",
    "print(\"The inverse of H is\\n\", findInverse(H))\n",
    "print(\"The inverse of K is\\n\", findInverse(K))"
   ]
  },
  {
   "cell_type": "markdown",
   "metadata": {},
   "source": [
    "## Exercise 5\n",
    "(a) Solve the following set of linear equations for $x$, $y$ and $z$:\n",
    "\n",
    "\\begin{align}\n",
    "x + y + z & = 3 \\\\\n",
    "2x  + 7y + 2z & = 15 \\\\\n",
    "-3x + 4y + z & = 0\n",
    "\\end{align}"
   ]
  },
  {
   "cell_type": "code",
   "execution_count": 22,
   "metadata": {},
   "outputs": [
    {
     "name": "stdout",
     "output_type": "stream",
     "text": [
      "M =\n",
      " [[ 1  1  1]\n",
      " [ 2  7  2]\n",
      " [-3  4  1]]\n",
      "N =\n",
      " [[ 3]\n",
      " [15]\n",
      " [ 0]]\n",
      "Therefore O =\n",
      " [[ 2.1]\n",
      " [ 1.8]\n",
      " [-0.9]]\n",
      "\n",
      "So the solution is\n",
      "\tx = 2.1\n",
      "\ty = 1.8\n",
      "\tz = -0.8999999999999995\n"
     ]
    }
   ],
   "source": [
    "# Declares matricies for known values\n",
    "M = np.array([[1,1,1],[2,7,2],[-3,4,1]])\n",
    "N = np.array([[3,15,0]]).T\n",
    "# Finds x, y and z\n",
    "O = np.linalg.solve(M, N)\n",
    "\n",
    "# Prints out the results\n",
    "print(\"M =\\n\", M)\n",
    "print(\"N =\\n\", N)\n",
    "print(\"Therefore O =\\n\", O)\n",
    "print(\"\\nSo the solution is\")\n",
    "print(\"\\tx =\", O[0,0])\n",
    "print(\"\\ty =\", O[1,0])\n",
    "print(\"\\tz =\", O[2,0])"
   ]
  },
  {
   "cell_type": "markdown",
   "metadata": {},
   "source": [
    "(b) Suppose a cinema ticket costs £9 for an adult and £5 for a child. Suppose in one hour, 34 tickets sold for £290. \n",
    "\n",
    "Represent this as a set of simultaneous equations, and use matrices to determine how many adult tickets and child tickets were sold.\n"
   ]
  },
  {
   "cell_type": "markdown",
   "metadata": {},
   "source": [
    "\\begin{align}\n",
    "x9 + y5 = 290 \\\\\n",
    "x + y = 34\n",
    "\\end{align}"
   ]
  },
  {
   "cell_type": "code",
   "execution_count": 23,
   "metadata": {},
   "outputs": [
    {
     "name": "stdout",
     "output_type": "stream",
     "text": [
      "P =\n",
      " [[9 5]\n",
      " [1 1]]\n",
      "Q =\n",
      " [[290]\n",
      " [ 34]]\n",
      "Therefore R =\n",
      " [[30.]\n",
      " [ 4.]]\n",
      "\n",
      "So the solution is\n",
      "\tx = 30.0\n",
      "\ty = 4.0000000000000036\n"
     ]
    }
   ],
   "source": [
    "# Declares matricies for known values\n",
    "P = np.array([[9,5],[1,1]])\n",
    "Q = np.array([[290,34]]).T\n",
    "# Finds x and y\n",
    "R = np.linalg.solve(P, Q)\n",
    "\n",
    "# Prints out the results\n",
    "print(\"P =\\n\", P)\n",
    "print(\"Q =\\n\", Q)\n",
    "print(\"Therefore R =\\n\", R)\n",
    "print(\"\\nSo the solution is\")\n",
    "print(\"\\tx =\", R[0,0])\n",
    "print(\"\\ty =\", R[1,0])"
   ]
  }
 ],
 "metadata": {
  "kernelspec": {
   "display_name": "Python 3 (ipykernel)",
   "language": "python",
   "name": "python3"
  },
  "language_info": {
   "codemirror_mode": {
    "name": "ipython",
    "version": 3
   },
   "file_extension": ".py",
   "mimetype": "text/x-python",
   "name": "python",
   "nbconvert_exporter": "python",
   "pygments_lexer": "ipython3",
   "version": "3.9.13"
  },
  "toc": {
   "colors": {
    "hover_highlight": "#DAA520",
    "navigate_num": "#000000",
    "navigate_text": "#333333",
    "running_highlight": "#FF0000",
    "selected_highlight": "#FFD700",
    "sidebar_border": "#EEEEEE",
    "wrapper_background": "#FFFFFF"
   },
   "moveMenuLeft": true,
   "nav_menu": {
    "height": "253.41px",
    "width": "252px"
   },
   "navigate_menu": true,
   "number_sections": true,
   "sideBar": true,
   "threshold": 4,
   "toc_cell": false,
   "toc_section_display": "block",
   "toc_window_display": false,
   "widenNotebook": false
  }
 },
 "nbformat": 4,
 "nbformat_minor": 2
}
