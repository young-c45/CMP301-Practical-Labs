{
 "cells": [
  {
   "cell_type": "markdown",
   "metadata": {},
   "source": [
    "# COM400 Week 7\n",
    "\n",
    "# Probability\n",
    "Here we'll explore some ways we can use Python in the context of probability to carry out calculations that might be difficult or tedious to carry out by hand and to plot probability distributions. However, to start with we'll look at one or two simple examples of probability.\n",
    "\n",
    "### Basic Probability\n",
    "Example 6.3 from lecture notes.\n",
    "\n",
    "Suppose $P(A) = 0.9, P(B) = 0.8$ and $P(A \\cap B) = 0.75$. Find the probability that \n",
    "\n",
    "1. $A$ or $B$ occurs, i.e. $P(A \\cup B)$\n",
    "2. neither $A$ nor $B$ occurs, i.e. $P(A^c \\cap B^c)$\n"
   ]
  },
  {
   "cell_type": "code",
   "execution_count": 5,
   "metadata": {},
   "outputs": [
    {
     "name": "stdout",
     "output_type": "stream",
     "text": [
      "Probability of A or B is 0.950\n",
      "Probability of neither A nor B is 0.050\n"
     ]
    }
   ],
   "source": [
    "P_A = 0.9\n",
    "P_B = 0.8\n",
    "P_AnB = 0.75 # represents the probability of the intersection of A and B\n",
    "\n",
    "# Q1 - use addition rule\n",
    "P_AuB = P_A + P_B - P_AnB # represents the probability of the union of A and B\n",
    "print('Probability of A or B is {:5.3f}'.format(P_AuB))\n",
    "\n",
    "# Q2 - use de Morgan's laws \n",
    "P_AcnBc = 1 - P_AuB\n",
    "print('Probability of neither A nor B is {:5.3f}'.format(P_AcnBc))\n"
   ]
  },
  {
   "cell_type": "markdown",
   "metadata": {},
   "source": [
    "### Law of Total Probability\n",
    "\n",
    "**You should read Section 6.7 of the lecture notes and ask in lab if you have any questions.**\n",
    "\n",
    "Suppose $P(B|A) = 0.8$, $P(B|A^C) = 0.1$ and $P(A) = 0.2$. What is the probability of $B$?\n",
    "\n",
    "Since $A$ and $A^c$ form a partition, we can use the law of total probability (see lecture notes) as follows"
   ]
  },
  {
   "cell_type": "code",
   "execution_count": 6,
   "metadata": {},
   "outputs": [
    {
     "name": "stdout",
     "output_type": "stream",
     "text": [
      "Probability of B is 0.240\n"
     ]
    }
   ],
   "source": [
    "P_A = 0.2\n",
    "P_BgA = 0.8 # represents the conditional probability of B given A\n",
    "P_BgAc = 0.1\n",
    "\n",
    "# Now use law of total probability\n",
    "# Note that we need the probability of the complement of A which is 1 - P_A\n",
    "P_B = P_BgA * P_A + P_BgAc * (1 - P_A)\n",
    "print('Probability of B is {:5.3f}'.format(P_B))"
   ]
  },
  {
   "cell_type": "markdown",
   "metadata": {},
   "source": [
    "Suppose a company buys a particular component for its product from eight different\n",
    "manufacturers denoted $M_1$, $M_2$, $\\ldots$, $M_8$. The percentage it buys from each company is\n",
    "30%, 22%, 15%, 12%, 8%, 6%, 4% and 3% respectively, while the percentage of components from each company that are defective is 1%, 2.5%, 0.3%, 1.3%, 0.9%, 1.7%, 0.6% and 1.2% respectively. If we randomly select one of the company’s product, what is the probability the component will be defective?\n",
    "\n",
    "(See worked example 6.7 from the lecture notes for a similar problem.)"
   ]
  },
  {
   "cell_type": "code",
   "execution_count": 7,
   "metadata": {},
   "outputs": [
    {
     "name": "stdout",
     "output_type": "stream",
     "text": [
      "Probability the component is defective:  1.29%\n"
     ]
    }
   ],
   "source": [
    "import numpy as np\n",
    "\n",
    "# Use arrayes to represent the percentages for the manufacturers\n",
    "# and for the probability of a defect given each manufacturer\n",
    "P_M = np.array([[30, 22, 15, 12, 8, 6, 4, 3]])/100\n",
    "P_FgM = np.array([[1, 2.5, 0.3, 1.3, 0.9, 1.7, 0.6, 1.2]])/100\n",
    "\n",
    "# Now use law of total probability\n",
    "# First multiply the probability of each manufacturer by the probability\n",
    "# of a fault given that manufacturer\n",
    "P_FnM = P_FgM * P_M\n",
    "# Then add up all these probabilities to get the overall probability of a defect\n",
    "P_F = np.sum(P_FnM)\n",
    "\n",
    "print('Probability the component is defective: {:5.2f}%'.format(100 * P_F))"
   ]
  },
  {
   "cell_type": "markdown",
   "metadata": {},
   "source": [
    "### Bayes' Theorem\n",
    "\n",
    "**You should read Section 6.8 of the lecture notes and ask in lab if you have any questions.**\n",
    "\n",
    "(This example is similar to Example 6.8 from the notes.)\n",
    "\n",
    "Suppose a medical test is positive for 94% of subjects who have a certain disease and negative for 96% of those who do not have the disease. Suppose also that 4% of the population have the disease. What is the probability that a randomly selected person who tested positive does not have the disease?\n",
    "\n",
    "- Let $D$ be the event that the person has the disease. \n",
    "- Let $P$ be the event that the test result for the person is positive and $N$ that it is negative.\n",
    "\n",
    "We can represent the information given to us as \n",
    "\n",
    "- $P(D) = 0.04$ and from the complement rule $P(D^c) = 0.96$\n",
    "- $P(P|D) = 0.94$ and from the complement rule $P(N|D) = 0.06$\n",
    "- $P(N|D^c) = 0.96$ and from the complement rule $P(P|D^c) = 0.04$\n",
    "\n",
    "We want to find $P(D|P)$. We can use Bayes' theorem\n",
    "\n",
    "\\begin{equation}\n",
    "P(D|P) = \\frac{P(P|D)}{P(P)}P(D)\n",
    "\\end{equation}\n",
    "\n",
    "However, we need use this formula we need $P(P)$. For it, we can use the law of total probability\n",
    "\n",
    "\\begin{equation}\n",
    "P(P) = P(P|D)P(D) + P(P|D^c)P(D^c)\n",
    "\\end{equation}\n"
   ]
  },
  {
   "cell_type": "code",
   "execution_count": 8,
   "metadata": {},
   "outputs": [
    {
     "name": "stdout",
     "output_type": "stream",
     "text": [
      "Probability that the person has the disease, given the positive test result: 0.495\n"
     ]
    }
   ],
   "source": [
    "P_D = 0.04\n",
    "P_PgD = 0.94 # Probability of positive test result given the disease\n",
    "P_NgDc = 0.96 # Probability of negative test result given no disease\n",
    "\n",
    "# First we can get the probability of no disease using the complement rule\n",
    "P_Dc = 1 - P_D\n",
    "\n",
    "# We can also get the probability of a positive test result given no disease using the complement rule\n",
    "P_PgDc = 1 - P_NgDc\n",
    "\n",
    "# Now apply law of total probability to get the probability of a postive test result\n",
    "P_P = P_PgD * P_D + P_PgDc * P_Dc\n",
    "\n",
    "# Now apply Bayes' theorem to get the probability we want: P_DgP\n",
    "P_DgP = (P_PgD * P_D) / P_P\n",
    "\n",
    "print('Probability that the person has the disease, given the ' \n",
    "      'positive test result: {:5.3f}'.format(P_DgP))\n"
   ]
  },
  {
   "cell_type": "markdown",
   "metadata": {},
   "source": [
    "In examples like this we can think of Bayes' theorem as providing us with a way to update probabilities in light of new evidence. Here the **prior** (or initial) probability for the disease is $P(D) = 0.04$. In other words, this is the probability that a person has the disease before we take the test result into account. However, the positive test result provides evidence that the person does have the disease. When we apply Bayes' theorem, this gives us the **posterior** probability that the person has the disease (after taking the evidence into account) and this is $P(D|P) = 0.495$. \n",
    "\n",
    "Note, however, that it is still slightly more likely that the person does not have the disease! At this stage, further tests would be carried out. Suppose a second test is positive for 90% of subjects who have the disease and negative for 95% of those who do not have the disease. Suppose also that the person who underwent the first test and got a positive result, also gets a positive result for the second test. How could we apply Bayes' theorem?\n",
    "\n",
    "The first thing to do is to take our **posterior** probability from the first test and make it the new **prior** probability, i.e. $P(D)$ is now given the value of $P(D|P)$, so $P(D) = 0.495$. [Strictly speaking this is a different probability distribution so we should use a different symbol like $P'(D) = 0.495$, but we'll not worry about that complication here.] Then we re-apply Bayes' theorem for the second test result. The code is almost identical."
   ]
  },
  {
   "cell_type": "code",
   "execution_count": 9,
   "metadata": {},
   "outputs": [
    {
     "name": "stdout",
     "output_type": "stream",
     "text": [
      "Probability that the person has the disease, given the second positive test result: 0.946\n"
     ]
    }
   ],
   "source": [
    "# First set the posterior probability from the previous calculation to be the new prior probability\n",
    "P_D = P_DgP \n",
    "\n",
    "# As before specify the conditional probabilities for the second test\n",
    "P_PgD = 0.9 # Probability of positive test result given the disease\n",
    "P_NgDc = 0.95 # Probability of negative test result given no disease\n",
    "\n",
    "# First we can get the probability of no disease using the complement rule\n",
    "P_Dc = 1 - P_D\n",
    "\n",
    "# We can also get the probability of a positive test result given no disease using the complement rule\n",
    "P_PgDc = 1 - P_NgDc\n",
    "\n",
    "# Now apply law of total probability to get the probability of a postive test result\n",
    "P_P = P_PgD * P_D + P_PgDc * P_Dc\n",
    "\n",
    "# Now apply Bayes' theorem to get the probability we want: P_DgP\n",
    "P_DgP = (P_PgD * P_D) / P_P\n",
    "\n",
    "print('Probability that the person has the disease, given the ' \n",
    "      'second positive test result: {:5.3f}'.format(P_DgP))"
   ]
  },
  {
   "cell_type": "markdown",
   "metadata": {},
   "source": [
    "Not surprisingly, we see that the probability that the person has the disease after the two positive test results is much higher. The process could then be continued to take account of further new evidence."
   ]
  },
  {
   "cell_type": "markdown",
   "metadata": {},
   "source": [
    "### Simulations based on Probability\n",
    "\n",
    "The focus has been on determining the probability of certain outcomes, but probability is also used to simulate outcomes in science, engineering, finance, etc. Random numbers are used to do this. Suppose we want to simulate the outcome of tossing a fair coin. If we randomly select a number between 0 and 1 (with all numbers being equally likely to be chosen), then we would expect that around half the time (on half the trials) the number would be less than 0.5 and the rest of the time it would be greater than or equal to 0.5. So if the outcome is less than 0.5, we could use this to simulate a head (H) otherwise a tail (T). \n"
   ]
  },
  {
   "cell_type": "code",
   "execution_count": 10,
   "metadata": {},
   "outputs": [
    {
     "name": "stdout",
     "output_type": "stream",
     "text": [
      "Coin flip outcome T\n"
     ]
    }
   ],
   "source": [
    "import numpy as np\n",
    "\n",
    "p_head = 0.5\n",
    "\n",
    "randNum = np.random.random()\n",
    "\n",
    "if randNum < p_head:\n",
    "    outcome = 'H'\n",
    "else:\n",
    "    outcome = 'T'\n",
    "\n",
    "print('Coin flip outcome ' + outcome)"
   ]
  },
  {
   "cell_type": "markdown",
   "metadata": {},
   "source": [
    "And this can easily be extended to multiple trials. So for ten trials:"
   ]
  },
  {
   "cell_type": "code",
   "execution_count": 11,
   "metadata": {},
   "outputs": [
    {
     "name": "stdout",
     "output_type": "stream",
     "text": [
      "T H H T H T T T T T "
     ]
    }
   ],
   "source": [
    "for i in range(10):\n",
    "    randNum = np.random.random()\n",
    "    if randNum < p_head:\n",
    "        outcome = 'H'\n",
    "    else:\n",
    "        outcome = 'T'\n",
    "    print(outcome, end=' ')"
   ]
  },
  {
   "cell_type": "markdown",
   "metadata": {},
   "source": [
    "A similar approach can be applied when the outcomes are are not equally likely. Suppose a coin is biased and has a probability of landing of heads of 0.3. We could simulate this be selecting a random number and letting it represent heads if is less than 0.3 and tails otherwise as follows:"
   ]
  },
  {
   "cell_type": "code",
   "execution_count": 12,
   "metadata": {},
   "outputs": [
    {
     "name": "stdout",
     "output_type": "stream",
     "text": [
      "Coin flip outcome T\n"
     ]
    }
   ],
   "source": [
    "p_head = 0.3\n",
    "\n",
    "randNum = np.random.random()\n",
    "\n",
    "if randNum < p_head:\n",
    "    outcome = 'H'\n",
    "else:\n",
    "    outcome = 'T'\n",
    "\n",
    "print('Coin flip outcome ' + outcome)"
   ]
  },
  {
   "cell_type": "markdown",
   "metadata": {},
   "source": [
    "## Exercise 1\n",
    "In an experiment $P(A) = \\frac{1}{2}$, $P(B) = \\frac{1}{2}$ and $P(A\\cup B) = \\frac{2}{3}$. Calculate:\n",
    "\n",
    "i) $P(A^c)$\n",
    "\n",
    "ii) $P(B^c)$\n",
    "\n",
    "iii) $P(A\\cap B)$\n",
    "\n",
    "iv) $P(A^c \\cap B^c)$\n",
    "\n",
    "v) $P(A^c \\cup B^c)$\n",
    "\n",
    "vi) $P(A \\cap B^c)$\n",
    "\n",
    "vii) $P(A^c \\cap B)$\n",
    "\n",
    "viii) $P(A^c \\cup B)$"
   ]
  },
  {
   "cell_type": "code",
   "execution_count": 13,
   "metadata": {},
   "outputs": [
    {
     "name": "stdout",
     "output_type": "stream",
     "text": [
      "i) P(Ac) = 0.500\n",
      "ii) P(Bc) = 0.500\n",
      "iii) P(A n B) = 0.333\n",
      "iv) P(Ac n Bc) = 0.333\n",
      "v) P(Ac u Bc) = 0.667\n",
      "vi) P(A n Bc) = 0.167\n",
      "vii) P(Ac n B) = 0.167\n",
      "viii) P(Ac u B) = 0.833\n"
     ]
    }
   ],
   "source": [
    "# Stores the given values\n",
    "P_A = 1/2\n",
    "P_B = 1/2\n",
    "P_AuB = 2/3\n",
    "\n",
    "# Calculates the unknown values\n",
    "P_Ac = 1 - P_A\n",
    "P_Bc = 1 - P_B\n",
    "P_AnB = P_A + P_B - P_AuB\n",
    "P_AcnBc = 1 - P_AuB\n",
    "P_AcuBc = 1 - P_AnB\n",
    "P_AnBc = P_A - P_AnB\n",
    "P_AcnB = P_B - P_AnB\n",
    "P_AcuB = P_Ac + P_B - P_AcnB\n",
    "\n",
    "# Outputs the results\n",
    "print('i) P(Ac) = {:5.3f}'.format(P_Ac))\n",
    "print('ii) P(Bc) = {:5.3f}'.format(P_Bc))\n",
    "print('iii) P(A n B) = {:5.3f}'.format(P_AnB))\n",
    "print('iv) P(Ac n Bc) = {:5.3f}'.format(P_AcnBc))\n",
    "print('v) P(Ac u Bc) = {:5.3f}'.format(P_AcuBc))\n",
    "print('vi) P(A n Bc) = {:5.3f}'.format(P_AnBc))\n",
    "print('vii) P(Ac n B) = {:5.3f}'.format(P_AcnB))\n",
    "print('viii) P(Ac u B) = {:5.3f}'.format(P_AcuB))"
   ]
  },
  {
   "cell_type": "markdown",
   "metadata": {},
   "source": [
    "## Exercise 2\n",
    "Suppose a bag contains 100 coins and that 40 coins are fair coins (i.e. the probability of heads is 1/2), 35 are biased so that their probability of heads is 0.4, and 25 are biased so that their probability of heads is 0.9. If a coin is selected at random and tossed what is the probability that it will be heads?\n",
    "\n",
    "Hint: use the law of total probability."
   ]
  },
  {
   "cell_type": "code",
   "execution_count": 14,
   "metadata": {},
   "outputs": [
    {
     "name": "stdout",
     "output_type": "stream",
     "text": [
      "Probability a toss of a random coin will be heads is 56.50%\n"
     ]
    }
   ],
   "source": [
    "import numpy as np\n",
    "\n",
    "# Probabilities of picking each coin\n",
    "P_C = np.array([[40,35,25]])/100\n",
    "# Probabilities of heads for each coin\n",
    "P_HgC = np.array([[0.5,0.4,0.9]])\n",
    "\n",
    "# Multiplies the probability of each coin by the probability of heads given that coin\n",
    "P_HnC = P_HgC * P_C\n",
    "# Gets the overall probability of heads by summing the probabilities\n",
    "P_H = np.sum(P_HnC)\n",
    "\n",
    "# Outputs the results\n",
    "print('Probability a toss of a random coin will be heads is {:5.2f}%'.format(100 * P_H))"
   ]
  },
  {
   "cell_type": "markdown",
   "metadata": {},
   "source": [
    "## Exercise 3\n",
    "Suppose there are two bags $A$ and $B$ each with 100 balls. $A$ has 50 white balls and 50 red balls, while $B$ has 90 white balls and 10 red balls. Both bags look identical from the outside and one is on the table in front of you. Although you aren't sure which it is, you have some reason to think that it is bag $A$ so you assign a prior probability of 0.7 to $A$. An experiment is set up as follows. You are allowed to take one ball at random from the bag (without looking inside) and observe whether it is white or red. When you do this, you observe a white ball. Use Bayes' theorem to determine the probability that the bag is $A$ and the probability that it is $B$ given this observation.\n",
    "\n",
    "Hint: $P(A) = 0.7$ and $P(B) = 0.3$ are the prior probabilities. We also know the conditional probability of observing a white ball, which we can denote $W$, given that the bag is bag $A$. This probability is $P(W|A) = 0.5$. (Clearly, if $R$ represents observing a red ball, then $P(R|A) = 0.5$.) Similarly, we know that $P(W|B) = 0.9$. (Clearly, $P(R|B) = 0.1$.) We can now use the law of total probability to work out $P(W)$ and then Bayes' theorem to work out the probability that the bag is $A$ given that we have observed white, i.e. $P(A|W)$. Obviously, $P(B|W) = 1 - P(A|W)$."
   ]
  },
  {
   "cell_type": "code",
   "execution_count": 15,
   "metadata": {},
   "outputs": [
    {
     "name": "stdout",
     "output_type": "stream",
     "text": [
      "The probability the bag is A is 56.45%\n",
      "The probability the bag is B is 43.55%\n"
     ]
    }
   ],
   "source": [
    "# Stores given values\n",
    "P_A = 0.7\n",
    "P_B = 0.3\n",
    "P_WgA = 0.5\n",
    "P_WgB = 0.9\n",
    "\n",
    "# Calculates the probabilty of getting white while having each bag\n",
    "P_WnA = P_WgA * P_A\n",
    "P_WnB = P_WgB * P_B\n",
    "# Gets the overall probability by summing the probabilities\n",
    "P_W = P_WnA + P_WnB\n",
    "\n",
    "# Calculates the probability of each bag\n",
    "P_AgW = (P_WgA * P_A)/P_W\n",
    "P_BgW = 1 - P_AgW\n",
    "\n",
    "# Outputs the results\n",
    "print('The probability the bag is A is {:5.2f}%'.format(100*P_AgW))\n",
    "print('The probability the bag is B is {:5.2f}%'.format(100*P_BgW))"
   ]
  },
  {
   "cell_type": "markdown",
   "metadata": {},
   "source": [
    "## Exercise 4\n",
    "After observing the white ball in exercise 3, the ball is then returned to the bag. Another ball is withdrawn randomly. It also is observed to be white and then returned to the bag. Then for a third and final time, a ball is withdrawn randomly and again it is observed to be white. Use Bayes' theorem to obtain the probability that the bag is $A$ and the probability that it is $B$ after all three observations.\n",
    "\n",
    "Hint: The result after the first observation has already been obtained in exercise 3. We now need to take the posterior probabilities we obtained and set these to be the new prior probabilities. Then we start the process again to update the probabilities for $A$ and $B$ based on the second observation of a white ball. These then become our prior probabilities and we repeat the process once more."
   ]
  },
  {
   "cell_type": "code",
   "execution_count": 16,
   "metadata": {},
   "outputs": [
    {
     "name": "stdout",
     "output_type": "stream",
     "text": [
      "The probability the bag is A is 28.58%\n",
      "The probability the bag is B is 71.42%\n"
     ]
    }
   ],
   "source": [
    "# Runs twice\n",
    "for i in range(2):\n",
    "    # Stores known values\n",
    "    P_A = P_AgW\n",
    "    P_B = P_BgW\n",
    "\n",
    "    # Uses law of total probability to get probability of white\n",
    "    P_W = (P_A * P_WgA) + (P_B * P_WgB)\n",
    "\n",
    "    # Uses Bayes' theorem to calculate probability of each bag\n",
    "    P_AgW = (P_WgA * P_A)/P_W\n",
    "    P_BgW = 1 - P_AgW\n",
    "\n",
    "# Outputs the results\n",
    "print('The probability the bag is A is {:5.2f}%'.format(100*P_AgW))\n",
    "print('The probability the bag is B is {:5.2f}%'.format(100*P_BgW))"
   ]
  },
  {
   "cell_type": "markdown",
   "metadata": {},
   "source": [
    "## Exercise 5\n",
    "Consider one coin of each of three types in exercise 2, i.e. one coin is fair, another is biased so that its probability of heads is 0.4, and the third is biased so that its probability of heads is 0.9. Suppose you toss the fair coin. If it lands heads you then toss the second coin ten times, otherwise you toss the third coin ten times. Simulate this process.\n",
    "\n",
    "Hint: You should first of all simulate the tossing of the first coin. You will need to select a random number to do this. Based on the outcome, your code should keep track of whether the second or third coin is to be used. Then you should toss the selected coin ten times (selecting a new random number each time), recording the outcome each time as H or T."
   ]
  },
  {
   "cell_type": "code",
   "execution_count": 17,
   "metadata": {},
   "outputs": [
    {
     "name": "stdout",
     "output_type": "stream",
     "text": [
      "H, H, H, T, T, T, T, T, H, H, H\n"
     ]
    }
   ],
   "source": [
    "# Stores probabilities of heads given each coin\n",
    "P_HgC = np.array([0.5,0.4,0.9])\n",
    "# Creates string to store results\n",
    "result = ''\n",
    "\n",
    "# Tosses first coin and runs code depending\n",
    "if np.random.random() < P_HgC[0]:\n",
    "    # Adds toss to result\n",
    "    result = 'H'\n",
    "    # Runs 10 times\n",
    "    for i in range(10):\n",
    "        # Tosses coin and adds to result\n",
    "        if np.random.random() < P_HgC[1]:\n",
    "            result += ', H'\n",
    "        else:\n",
    "            result += ', T'\n",
    "else:\n",
    "    # Adds toss to result\n",
    "    result = 'T'\n",
    "    # Runs 10 times\n",
    "    for i in range(10):\n",
    "        # Tosses coin and adds to result\n",
    "        if np.random.random() < P_HgC[2]:\n",
    "            result += ', H'\n",
    "        else:\n",
    "            result += ', T'\n",
    "\n",
    "# Outputs results\n",
    "print(result)"
   ]
  }
 ],
 "metadata": {
  "kernelspec": {
   "display_name": "Python 3 (ipykernel)",
   "language": "python",
   "name": "python3"
  },
  "language_info": {
   "codemirror_mode": {
    "name": "ipython",
    "version": 3
   },
   "file_extension": ".py",
   "mimetype": "text/x-python",
   "name": "python",
   "nbconvert_exporter": "python",
   "pygments_lexer": "ipython3",
   "version": "3.9.13"
  },
  "toc": {
   "colors": {
    "hover_highlight": "#DAA520",
    "navigate_num": "#000000",
    "navigate_text": "#333333",
    "running_highlight": "#FF0000",
    "selected_highlight": "#FFD700",
    "sidebar_border": "#EEEEEE",
    "wrapper_background": "#FFFFFF"
   },
   "moveMenuLeft": true,
   "nav_menu": {
    "height": "269.41px",
    "width": "252px"
   },
   "navigate_menu": true,
   "number_sections": true,
   "sideBar": true,
   "threshold": 4,
   "toc_cell": false,
   "toc_section_display": "block",
   "toc_window_display": false,
   "widenNotebook": false
  }
 },
 "nbformat": 4,
 "nbformat_minor": 2
}
