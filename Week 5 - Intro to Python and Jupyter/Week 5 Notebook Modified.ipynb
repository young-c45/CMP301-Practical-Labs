{
 "cells": [
  {
   "cell_type": "markdown",
   "metadata": {},
   "source": [
    "# COM400 Week 5 Lab\n",
    "# Introduction to Python and Jupyter Notebooks\n",
    "\n",
    "You have probably started by opening the pdf version of this file. If so, you should follow the instructions below to open the \\*.ipynb version of this file in the Jupyter Notebook App. \n",
    "\n",
    "The Jupyter Notebook App is a tool for creating documents (notebooks) containing both live code and text, as well as visualizations, etc. Various programming languages can be used, but in COM400 we will be using only Python. "
   ]
  },
  {
   "cell_type": "markdown",
   "metadata": {},
   "source": [
    "## Working from the labs\n",
    "\n",
    "#### Move the \\*.ipynb version of this file to your P: drive\n",
    "\n",
    "In the labs, files created on the C: drive will be lost overnight.  \n",
    "For your files to save, you must create them in your P: drive.  To do this, follow steps 1-3 below. \n",
    "\n",
    "1. Create a COM400 folder on your P: drive.\n",
    "2. In your COM400 folder, create a Week 5 subfolder.\n",
    "3. Download the file Week5_lab.ipynb from Blackboard, and move it to your Week 5 subfolder.\n",
    "\n",
    "#### Open the \\*.ipynb version of this file in the Jupyter Notebook App\n",
    "Now we need to open the Jupyter Notebook App and use it to open the file Week5_lab.ipynb.  \n",
    "Navigating to the P: drive on Jupyter notebook requires starting it from the command prompt.  Please follow steps 4-6 below.\n",
    "\n",
    "4. From the Windows menu, select Anaconda3, and run the Anaconda prompt.\n",
    "5. From the prompt, enter the command: jupyter notebook --notebook-dir=P:\n",
    "    If a dialog opens asking you what program you wish to use, select a browser, preferably chrome.\n",
    "6. In the browser window that opens, navigate to your file Week5_lab.ipynb and click on it to open.\n",
    "\n",
    "Solutions to the lab exercises will be released ahead of next week’s class.  \n",
    "You should try your best to get the exercises completed each week, before the solutions are released.\n",
    "\n",
    "## Working from a home computer\n",
    "If you wish to install the Jupyter notebook app on your own computer / laptop at home, you should install Anaconda from: \n",
    "\n",
    "https://www.anaconda.com/products/individual\n"
   ]
  },
  {
   "cell_type": "markdown",
   "metadata": {},
   "source": [
    "### Create a copy of the original notebook to work on\n",
    "\n",
    "One thing you should do at the outset is to save this noteback as a new notebook, so that you can change it as much as you want, but still go back to the original. From the menu, go to *File -> Make a Copy...*. This creates a copy of your notebook called *Week_5_Lab-Copy1* in your current folder. You can change the name of the notebook (and the file) by going to *File -> Rename* and changing it to *Week_5_Lab_my_version* for example, or by editing the name of the notebook at the top of the page beside the Jupyter symbol (just above the menu)."
   ]
  },
  {
   "cell_type": "markdown",
   "metadata": {},
   "source": [
    "### Remainder of this notebook\n",
    "\n",
    "The rest of this notebook is intended as an introduction to key features of Python and Jupyter Notebooks, irrespective of whether you have used Python before or not. It is not intended to be exhaustive, but will cover material that will be relevant in this module. In addition to this material, you are strongly encouarged to develop your knowledge of Python further through the use of other resources such as\n",
    "\n",
    "- The Python tutorial - https://docs.python.org/3/tutorial/\n",
    "\n",
    "Both Python and Jupyter Notebooks are used in various areas, including data science, so it would be well worthwhile your while to develop your skills in this area as much as possible."
   ]
  },
  {
   "cell_type": "markdown",
   "metadata": {},
   "source": [
    "## The Jupyter Notebook Interface\n",
    "\n",
    "### Cell Types\n",
    "\n",
    "We need to distinguish between different types of cells. This cell is a **Markdown cell** whereas the next cell below is a **Code cell**. Markdown cells are for formatting text rather than for running code. To see how to format headings, use italics and bold font, for example, you can go into edit mode by double-clicking on a cell. Try it for this cell. *Hello!* To execute the cell (and so produce the formatted text), you can go to *Cell / Run Cells* or use the shortcut *Ctrl-Enter*. (You can find other keyboard shortcuts under the *Help* menu.) Markdown is very useful for mathematical notation such as $\\sqrt{2}$. For further details on Markdown see <a href=\"https://www.datacamp.com/community/tutorials/markdown-in-jupyter-notebook\" >Markdown in Jupyter Notebook</a>.\n",
    "\n",
    "The next cell below is a Code cell.\n",
    "\n",
    "Type `print('Hello World!')` into the cell and run the cell by either:\n",
    "1. clicking the run button to the immediate left of the cell itself\n",
    "2. clicking the run button on the toolbar at the top of the screen\n",
    "3. clicking in the cell, and then pressing Shift+Enter\n",
    "\n",
    "If it ran ok, the output will be displayed below the cell. "
   ]
  },
  {
   "cell_type": "code",
   "execution_count": 1,
   "metadata": {},
   "outputs": [
    {
     "name": "stdout",
     "output_type": "stream",
     "text": [
      "Hello World!\n"
     ]
    }
   ],
   "source": [
    "print('Hello World!')"
   ]
  },
  {
   "cell_type": "markdown",
   "metadata": {},
   "source": [
    "## Exercise 1\n",
    "\n",
    "Below is a cell showing a calculation of $\\dfrac{25 - 4.5^2}{3}$"
   ]
  },
  {
   "cell_type": "code",
   "execution_count": 1,
   "metadata": {
    "scrolled": true
   },
   "outputs": [
    {
     "data": {
      "text/plain": [
       "1.5833333333333333"
      ]
     },
     "execution_count": 1,
     "metadata": {},
     "output_type": "execute_result"
    }
   ],
   "source": [
    "# Using Python as a calculator\n",
    "(25 - 4.5**2) / 3   # Notice how to square a number"
   ]
  },
  {
   "cell_type": "code",
   "execution_count": 4,
   "metadata": {},
   "outputs": [
    {
     "data": {
      "text/plain": [
       "2.3333333333333335"
      ]
     },
     "execution_count": 4,
     "metadata": {},
     "output_type": "execute_result"
    }
   ],
   "source": [
    "7/3"
   ]
  },
  {
   "cell_type": "code",
   "execution_count": 5,
   "metadata": {},
   "outputs": [
    {
     "data": {
      "text/plain": [
       "2"
      ]
     },
     "execution_count": 5,
     "metadata": {},
     "output_type": "execute_result"
    }
   ],
   "source": [
    "7//3"
   ]
  },
  {
   "cell_type": "markdown",
   "metadata": {},
   "source": [
    "You should try out a few other calculations like the one above. To do this, you have a few options. You can edit a current cell, such as the one above, to do a different calculation, but it is better to insert a new cell. You can do this by a) clicking on the cell above and then clicking *Insert -> Insert Cell Below* from the menu or b) when executing a cell you can click *Cell -> Run Cells and Insert Cell Below* from the menu (or alternatively use the shortcut *Alt-Enter*).\n",
    "\n",
    "Here are a couple of things you should check out. Confirm that unlike some other languages Python does not use integer division for `7/3`. For integer division you would instead use `7//3`. \n",
    "\n",
    "You should also make sure you understand <a href=\"https://docs.python.org/3/reference/expressions.html?highlight=precedence\">precedence in Python</a>. For example\n",
    "\n",
    "- Is 4 / 3 * 2 the same as (4 / 3) * 2 or 4 / (3 * 2)?\n",
    "- What is the result of 5 + 8 / 4 - 3 * 6?\n",
    "\n",
    "You should try these out in the Code cell below, using the `print` function to display output. For example, to print the output from the previous cell we could use `print((25 - 4.5**2) / 3) `. However you should also format the output to 3 decimal places. Hint: one way to do this is to use the `format` function as follows `print('{:X.Yf}'.format(1.234567))` where X and Y need to be replaced by suitable integers. For details, see https://www.python-course.eu/python3_formatted_output.php and https://docs.python.org/3/tutorial/inputoutput.html "
   ]
  },
  {
   "cell_type": "code",
   "execution_count": 7,
   "metadata": {},
   "outputs": [
    {
     "name": "stdout",
     "output_type": "stream",
     "text": [
      "The result of 4 / 3 * 2 is 2.667\n",
      "The result of (4 / 3) * 2 is 2.667\n",
      "The result of 4 / (3 * 2) is 0.667\n"
     ]
    }
   ],
   "source": [
    "eq1 = 4 / 3 * 2\n",
    "eq2 = (4 / 3) * 2\n",
    "eq3 = 4 / (3 * 2)\n",
    "print(\"The result of 4 / 3 * 2 is {:.3f}\".format(eq1))\n",
    "print(\"The result of (4 / 3) * 2 is {:.3f}\".format(eq2))\n",
    "print(\"The result of 4 / (3 * 2) is {:.3f}\".format(eq3))"
   ]
  },
  {
   "cell_type": "code",
   "execution_count": 9,
   "metadata": {},
   "outputs": [
    {
     "name": "stdout",
     "output_type": "stream",
     "text": [
      "5 + 8 / 4 - 3 * 6 = -11.000\n"
     ]
    }
   ],
   "source": [
    "result = 5 + 8 / 4 - 3 * 6\n",
    "print(\"5 + 8 / 4 - 3 * 6 = {:.3f}\".format(result))"
   ]
  },
  {
   "cell_type": "markdown",
   "metadata": {},
   "source": [
    "## Including Code\n",
    "\n",
    "### Basic programming structures\n",
    "\n",
    "Of course, as a programming language, Python provides the usual sorts of branching (`if`, `if else`) and repetition (`for`, `while`) structures. Try out the code below.\n",
    "\n",
    "**Note 1** In Python you do not need to declare the type of a variable.\n",
    "\n",
    "**Note 2** For programming structures such as `if` and `while`, the relevant code block that gets executed is defined by indentation, i.e. all the indented code is executed if the condition is true. The first unindented line of code is executed after the `if` or `while` statement is completed. This is very different from languages such as C and Java where { } are used."
   ]
  },
  {
   "cell_type": "code",
   "execution_count": 2,
   "metadata": {},
   "outputs": [
    {
     "name": "stdout",
     "output_type": "stream",
     "text": [
      "Please enter the price of the item: 35\n",
      "Do you have another item? (Enter y for yes): y\n",
      "Please enter the price of the item: 22\n",
      "Do you have another item? (Enter y for yes): y\n",
      "Please enter the price of the item: 11\n",
      "Do you have another item? (Enter y for yes): n\n",
      "\n",
      "Total bill: £ 68.0\n",
      "\n",
      "Number of items under £10: 0\n",
      "Number of items between £10 and £20: 1\n",
      "Number of items that are £20 or more: 2\n"
     ]
    }
   ],
   "source": [
    "# Determine the total bill for a number of items and keep track \n",
    "# of the number of items in different price ranges\n",
    "\n",
    "new_item = 'y'\n",
    "total = 0\n",
    "num_under_10 = 0\n",
    "num_10to20 = 0\n",
    "num_over_20 = 0\n",
    "\n",
    "while new_item == 'y' or new_item == 'Y':\n",
    "    price = float(input(\"Please enter the price of the item: \"))\n",
    "    \n",
    "    if price < 10:\n",
    "        num_under_10 = num_under_10 + 1\n",
    "    elif price < 20:\n",
    "        num_10to20 = num_10to20 + 1\n",
    "    else:\n",
    "        num_over_20 = num_over_20 + 1\n",
    "        \n",
    "    total = total + price\n",
    "    \n",
    "    new_item = input('Do you have another item? ' +\n",
    "                    '(Enter y for yes): ')\n",
    "    \n",
    "print('\\nTotal bill: £', total)\n",
    "print('\\nNumber of items under £10:', num_under_10)\n",
    "print('Number of items between £10 and £20:', num_10to20)\n",
    "print('Number of items that are £20 or more:', num_over_20)\n"
   ]
  },
  {
   "cell_type": "markdown",
   "metadata": {},
   "source": [
    "## Exercise 2\n",
    "\n",
    "Copy the above code to the cell below and then modify it to a) ensure that the prices entered by the user are positive (if the user enters a negative value or zero, ask for a new value until a positve value is entered), and b) determine the average price of the items purchased. "
   ]
  },
  {
   "cell_type": "code",
   "execution_count": 12,
   "metadata": {},
   "outputs": [
    {
     "name": "stdout",
     "output_type": "stream",
     "text": [
      "Please enter the price of the item: -7\n",
      "Price must be a positive number.\n",
      "Please enter the correct price of the item: 35\n",
      "Do you have another item? (Enter y for yes): y\n",
      "Please enter the price of the item: 22\n",
      "Do you have another item? (Enter y for yes): y\n",
      "Please enter the price of the item: 11\n",
      "Do you have another item? (Enter y for yes): y\n",
      "Please enter the price of the item: 0\n",
      "Price must be a positive number.\n",
      "Please enter the correct price of the item: 5\n",
      "Do you have another item? (Enter y for yes): n\n",
      "\n",
      "Total bill: £ 73.0\n",
      "\n",
      "Average price of items: £18.25\n",
      "\n",
      "Number of items under £10: 1\n",
      "Number of items between £10 and £20: 1\n",
      "Number of items that are £20 or more: 2\n"
     ]
    }
   ],
   "source": [
    "# Determine the total bill for a number of items and keep track \n",
    "# of the number of items in different price ranges\n",
    "\n",
    "new_item = 'y'\n",
    "total = 0\n",
    "num_of_items = 0\n",
    "num_under_10 = 0\n",
    "num_10to20 = 0\n",
    "num_over_20 = 0\n",
    "\n",
    "while new_item == 'y' or new_item == 'Y':\n",
    "    price = float(input(\"Please enter the price of the item: \"))\n",
    "    while price <= 0:\n",
    "        print(\"Price must be a positive number.\")\n",
    "        price = float(input(\"Please enter the correct price of the item: \"))\n",
    "    \n",
    "    if price < 10:\n",
    "        num_under_10 = num_under_10 + 1\n",
    "    elif price < 20:\n",
    "        num_10to20 = num_10to20 + 1\n",
    "    else:\n",
    "        num_over_20 = num_over_20 + 1\n",
    "        \n",
    "    total = total + price\n",
    "    num_of_items += 1\n",
    "    \n",
    "    new_item = input('Do you have another item? ' +\n",
    "                    '(Enter y for yes): ')\n",
    "    \n",
    "print('\\nTotal bill: £', total)\n",
    "print('\\nAverage price of items: £{:.2f}'.format(total / num_of_items))\n",
    "print('\\nNumber of items under £10:', num_under_10)\n",
    "print('Number of items between £10 and £20:', num_10to20)\n",
    "print('Number of items that are £20 or more:', num_over_20)\n"
   ]
  },
  {
   "cell_type": "markdown",
   "metadata": {},
   "source": [
    "### Note about Jupyter Notebooks\n",
    "You will have noticed that when you run a cell, a number appears beside it at the left hand side. These show us the order in which the cells have been executed. Unlike a typical program, the code does not have to be executed in a particular order. Consider the following three cells. If you execute them in order, the value of x displayed by the second cell is the value specified in the first of the three cells, i.e. 5, as you would expect. But suppose you execute the second of these cells after you execute the third one, you will find that the value of x displayed is 10.\n",
    "\n",
    "To make your notebook readable, you should avoid writing code that depends on cells that appear later, but if something goes wrong in a calculation, you should check that it isn't related to this issue. The more general point, however, is that cells are not independent of each other, so variables introduced in one cell will be available in another cell after the first one has been executed."
   ]
  },
  {
   "cell_type": "code",
   "execution_count": 3,
   "metadata": {},
   "outputs": [],
   "source": [
    "x = 5"
   ]
  },
  {
   "cell_type": "code",
   "execution_count": 14,
   "metadata": {},
   "outputs": [
    {
     "name": "stdout",
     "output_type": "stream",
     "text": [
      "x is 10\n"
     ]
    }
   ],
   "source": [
    "print('x is',x)"
   ]
  },
  {
   "cell_type": "code",
   "execution_count": 13,
   "metadata": {},
   "outputs": [],
   "source": [
    "x = 10"
   ]
  },
  {
   "cell_type": "markdown",
   "metadata": {},
   "source": [
    "### Functions\n",
    "The following cell includes a function to calculate the mean of a number of randomly generated integers. The function is then called with appropriate arguments. Try to determine exactly how the code works and what the parameters represent. How would you modify the code to print out each random number generated? Or count up the number of even numbers generated?"
   ]
  },
  {
   "cell_type": "code",
   "execution_count": 6,
   "metadata": {},
   "outputs": [
    {
     "name": "stdout",
     "output_type": "stream",
     "text": [
      "x is 3.45\n"
     ]
    }
   ],
   "source": [
    "# Import Python's random module\n",
    "import random\n",
    "\n",
    "def meanRandom(n,a,b):\n",
    "    sum = 0\n",
    "    \n",
    "    for i in range(1,n+1): # i will take on the values 1 up to n\n",
    "        sum = sum + random.randint(a,b) \n",
    "    \n",
    "    return sum/n\n",
    "\n",
    "# Call the function meanRandom\n",
    "x = meanRandom(100,1,6)\n",
    "print('x is', x)"
   ]
  },
  {
   "cell_type": "markdown",
   "metadata": {},
   "source": [
    "## Exercise 3\n",
    "Write a function to determine whether a given number is prime or not. (You can do this by using the modulus operator `%` to determine the remainder after division, i.e. `a % b` gives the remainder of a after division by b. You can also `return True` or `return False`.) Then use a `for` loop to call your function for each number up to 100, printing out all the prime numbers."
   ]
  },
  {
   "cell_type": "code",
   "execution_count": 22,
   "metadata": {},
   "outputs": [
    {
     "name": "stdout",
     "output_type": "stream",
     "text": [
      "2, 3, 5, 7, 11, 13, 17, 19, 23, 29, 31, 37, 41, 43, 47, 53, 59, 61, 67, 71, 73, 79, 83, 89, 97\n"
     ]
    }
   ],
   "source": [
    "# Method to test if n is prime\n",
    "def isPrime(n):\n",
    "    # Returns not prime if n is 1 or less\n",
    "    if n <= 1:\n",
    "        return False\n",
    "    \n",
    "    # Declares variable to count iterations\n",
    "    i = 2\n",
    "    # Runs until number of iterations is < half of n\n",
    "    while i <= (n/2):\n",
    "        # Returns not prime if n divides evenly by i\n",
    "        if (n%i) == 0:\n",
    "            return False\n",
    "        # Increments i\n",
    "        i += 1\n",
    "    # Returns is prime if not disproven above\n",
    "    return True\n",
    "\n",
    "# Declares resonse string\n",
    "response = \"\"\n",
    "# Runs from 0 to 99\n",
    "for i in range(100):\n",
    "    # Runs if i is prime\n",
    "    if isPrime(i):\n",
    "        # Adds comma if response not empty\n",
    "        if response:\n",
    "            response += \", \"\n",
    "        # Adds i to output\n",
    "        response += str(i)\n",
    "# Outputs response string\n",
    "print(response)"
   ]
  },
  {
   "cell_type": "markdown",
   "metadata": {},
   "source": [
    "## Arrays in Numpy\n",
    "<a href=\"https://numpy.org/devdocs/user/quickstart.html\">Numpy</a> is a Python library that is widely used for scientific computing and data science. So although *Lists* can be used in Python for handling arrays, Numpy provides us with more scope, especially for dealing with matrices, which are two-dimensional arrays and we will look at them next week. One dimensional arrays are called vectors.\n",
    "\n",
    "Here's a simple example of how we can create, print and access the elements of an array."
   ]
  },
  {
   "cell_type": "code",
   "execution_count": 8,
   "metadata": {},
   "outputs": [
    {
     "name": "stdout",
     "output_type": "stream",
     "text": [
      "[3 6 5 4 2]\n",
      "3\n",
      "2\n"
     ]
    }
   ],
   "source": [
    "# Import Numpy\n",
    "import numpy as np\n",
    "\n",
    "# Create an array a\n",
    "a = np.array([3, 6, 5, 4, 2])\n",
    "\n",
    "# Print the array\n",
    "print(a) \n",
    "\n",
    "# Print the first and last elements of the array\n",
    "# Note: the index of the first element is 0 and the index of the last element \n",
    "# is one less than the number of elements\n",
    "print(a[0])\n",
    "print(a[4])"
   ]
  },
  {
   "cell_type": "markdown",
   "metadata": {},
   "source": [
    "### Creating arrays\n",
    "Numpy provides different ways to create arrays, including the following.\n",
    "\n",
    "(In the cells below there is no import Numpy statement, so it is assummed you have already run the previous cell above first.)"
   ]
  },
  {
   "cell_type": "code",
   "execution_count": 9,
   "metadata": {},
   "outputs": [
    {
     "name": "stdout",
     "output_type": "stream",
     "text": [
      "b = [0 1 2 3 4 5 6 7 8 9]\n",
      "c = [ 3  4  5  6  7  8  9 10 11 12]\n",
      "d = [ 0.   0.5  1.   1.5  2.   2.5  3.   3.5  4.   4.5  5.   5.5  6.   6.5\n",
      "  7.   7.5  8.   8.5  9.   9.5 10. ]\n",
      "e = [0. 0. 0. 0. 0. 0. 0. 0. 0. 0.]\n",
      "f = [1. 1. 1. 1. 1. 1. 1. 1. 1. 1.]\n"
     ]
    }
   ],
   "source": [
    "# To create an array of numbers 0, 1, ..., 9\n",
    "b = np.arange(10)\n",
    "print('b =',b)\n",
    "\n",
    "# Or from 3 to 12\n",
    "c = np.arange(3,13)\n",
    "print('c =',c)\n",
    "\n",
    "# To create an array with 21 equally space numbers between 0 and 10\n",
    "d = np.linspace(0,10,21)\n",
    "print('d =',d)\n",
    "\n",
    "# To create an array of zeros\n",
    "e = np.zeros(10)\n",
    "print('e =',e)\n",
    "\n",
    "# Or ones\n",
    "f = np.ones(10)\n",
    "print('f =',f)"
   ]
  },
  {
   "cell_type": "markdown",
   "metadata": {},
   "source": [
    "### Mathematical operations on arrays"
   ]
  },
  {
   "cell_type": "code",
   "execution_count": 10,
   "metadata": {},
   "outputs": [
    {
     "name": "stdout",
     "output_type": "stream",
     "text": [
      "b = [3 6 5 4 2]\n",
      "b = [ 3  6 25  4  2]\n",
      "b = [5 8 7 6 4]\n",
      "b = [3.46410162 4.89897949 4.47213595 4.         2.82842712]\n"
     ]
    }
   ],
   "source": [
    "# We can create a copy of the array \n",
    "# Note: If instead we use b = a, that works differently since b and a would refer to the same \n",
    "# array so changing an element of b would also change the same element of a\n",
    "b = np.copy(a)\n",
    "print('b =',b)\n",
    "\n",
    "# We can change the value of particular elements, e.g. to square an element\n",
    "b[2] = b[2]**2\n",
    "print('b =',b)\n",
    "\n",
    "# We can also apply mathematical operations to all elements of the array, e.g. add a number\n",
    "b = a + 2\n",
    "print('b =',b)\n",
    "\n",
    "# Or multiply the square root of each number by 2\n",
    "b = 2 * np.sqrt(a)\n",
    "print('b =',b)"
   ]
  },
  {
   "cell_type": "markdown",
   "metadata": {},
   "source": [
    "### For loops and arrays"
   ]
  },
  {
   "cell_type": "code",
   "execution_count": 11,
   "metadata": {},
   "outputs": [
    {
     "name": "stdout",
     "output_type": "stream",
     "text": [
      "3 is odd\n",
      "6 is even\n",
      "5 is odd\n",
      "4 is even\n",
      "2 is even\n",
      "3 is odd\n",
      "6 is even\n",
      "5 is odd\n",
      "4 is even\n",
      "2 is even\n"
     ]
    }
   ],
   "source": [
    "# We can access the array element by element using a for loop\n",
    "for i in a:\n",
    "    if i % 2 == 0:\n",
    "        print(i, 'is even')\n",
    "    else:\n",
    "        print(i, 'is odd')\n",
    "\n",
    "# Note: in the above for loop i refers to the values each element of the array a in turn, not the index\n",
    "# So i refers to the values 3, 6, 5, 4, 2\n",
    "# Here's a version where i refers to each index in the array in turn\n",
    "# range(5) takes on the values 0, 1, 2, 3, 4\n",
    "for i in range(5):\n",
    "    if a[i] % 2 == 0:\n",
    "        print(a[i], 'is even')\n",
    "    else:\n",
    "        print(a[i], 'is odd')        "
   ]
  },
  {
   "cell_type": "markdown",
   "metadata": {},
   "source": [
    "## Exercise 4\n",
    "Suppose a group of students (listed in the same order in each case) obtained the following marks out of 100 for the coursework and exam in a module.\n",
    "\n",
    "- Coursework: 54, 67, 40, 82, 72, 43, 33, 73, 53, 80, 42, 63, 88, 29, 55, 60. \n",
    "- Exam:       59, 61, 37, 78, 67, 36, 40, 68, 48, 59, 36, 60, 91, 25, 54, 64.\n",
    "\n",
    "Write code to represent this information in two arrays and then determine the overall mark for each student assuming an equal weighting between coursework and exam. Marks should be rounded up to the nearest integer. Look at functions such as `round`, `floor`, `ceil` and `rint` from Numpy and choose the most appropriate one. See https://docs.scipy.org/doc/numpy/reference/\n",
    "\n",
    "Use a for loop to display the overall marks for each student with the letter 'D' after all the students who achieved a distinction (70% or higher), 'F' for all those who failed (less than 40%) and 'P' for all the other students who passed."
   ]
  },
  {
   "cell_type": "code",
   "execution_count": 36,
   "metadata": {},
   "outputs": [
    {
     "name": "stdout",
     "output_type": "stream",
     "text": [
      "Student 1: 56% P\n",
      "Student 2: 64% P\n",
      "Student 3: 38% F\n",
      "Student 4: 80% D\n",
      "Student 5: 70% D\n",
      "Student 6: 40% P\n",
      "Student 7: 36% F\n",
      "Student 8: 70% D\n",
      "Student 9: 50% P\n",
      "Student 10: 70% D\n",
      "Student 11: 39% F\n",
      "Student 12: 62% P\n",
      "Student 13: 90% D\n",
      "Student 14: 27% F\n",
      "Student 15: 54% P\n",
      "Student 16: 62% P\n"
     ]
    }
   ],
   "source": [
    "# Imports Numpy\n",
    "import numpy as np\n",
    "\n",
    "# Creates arrays\n",
    "coursework = np.array([54, 67, 40, 82, 72, 43, 33, 73, 53, 80, 42, 63, 88, 29, 55, 60])\n",
    "exam = np.array([59, 61, 37, 78, 67, 36, 40, 68, 48, 59, 36, 60, 91, 25, 54, 64])\n",
    "\n",
    "# Calculates overall marks\n",
    "overall = ((coursework + exam) / 2).round(0).astype(int)\n",
    "\n",
    "# Runs for every student\n",
    "for i in range(overall.size):\n",
    "    # Creates response string\n",
    "    response = \"Student \" + str(i+1) + \": \" + str(overall[i]) + \"% \"\n",
    "    # Adds F, P, and D depending on mark\n",
    "    response += \"D\" if overall[i] >= 70 else \"F\" if overall[i] < 40 else \"P\"\n",
    "    # Outputs response\n",
    "    print(response)"
   ]
  },
  {
   "cell_type": "markdown",
   "metadata": {},
   "source": [
    "## Plotting data using Matplotlib\n",
    "<a href=\"https://matplotlib.org/\">Matplotlib</a> is a very useful library for producing figures in Python. (We will also come across another plotting library called *Seaborn* which is based on Matplotlib.) Here we will use the *Pyplot* interface within Matplotlib. For further details, see https://matplotlib.org/tutorials/introductory/pyplot.html#sphx-glr-tutorials-introductory-pyplot-py You should look at these resources to explore more details about how to plot and edit figures.\n",
    "\n",
    "Here is a simple example to illustrate how to produce a x-y line plot."
   ]
  },
  {
   "cell_type": "code",
   "execution_count": 12,
   "metadata": {},
   "outputs": [
    {
     "data": {
      "image/png": "[encoded data removed]",
      "text/plain": [
       "<Figure size 432x288 with 1 Axes>"
      ]
     },
     "metadata": {
      "needs_background": "light"
     },
     "output_type": "display_data"
    }
   ],
   "source": [
    "import numpy as np\n",
    "import matplotlib.pyplot as plt\n",
    "\n",
    "x = np.array([0,1,2,3,4,5])\n",
    "y = np.array([1,2,5,10,17,26])\n",
    "\n",
    "plt.plot(x, y) \n",
    "plt.xlabel('x')\n",
    "plt.ylabel('y')\n",
    "plt.show()"
   ]
  },
  {
   "cell_type": "markdown",
   "metadata": {},
   "source": [
    "## Exercise 5\n",
    "Produce a scatter plot for the coursework vs exam results from Exercise 4. How would you describe the relationship between coursework and exam marks? We will return to this topic when we are covering statistics."
   ]
  },
  {
   "cell_type": "code",
   "execution_count": 50,
   "metadata": {},
   "outputs": [
    {
     "data": {
      "text/plain": [
       "<function matplotlib.pyplot.show(close=None, block=None)>"
      ]
     },
     "execution_count": 50,
     "metadata": {},
     "output_type": "execute_result"
    },
    {
     "data": {
      "image/png": "[encoded data removed]",
      "text/plain": [
       "<Figure size 640x480 with 1 Axes>"
      ]
     },
     "metadata": {},
     "output_type": "display_data"
    }
   ],
   "source": [
    "# Imports pyplot\n",
    "import matplotlib.pyplot as plt\n",
    "\n",
    "# Creates the plot\n",
    "plt.plot(coursework, exam, 'ro')\n",
    "# Sets the plot labels\n",
    "plt.xlabel(\"Coursework\")\n",
    "plt.ylabel(\"Exam\")\n",
    "# Displays the plot\n",
    "plt.show"
   ]
  },
  {
   "cell_type": "markdown",
   "metadata": {},
   "source": [
    "## Exercise 6\n",
    "Plot the following function for values of x between -10 and 10\n",
    "\n",
    "\\begin{equation*}\n",
    "y = 2.5x^2 + 7x + 4.2\n",
    "\\end{equation*}\n",
    "\n",
    "Hint: create an array $x$ consisting of 100 equally spaced values between -10 and 10 using the function `linspace`. Then use the equation to determine the values of another array $y$.\n",
    "\n",
    "How would you plot a dashed black line instead of a solid blue line?"
   ]
  },
  {
   "cell_type": "code",
   "execution_count": 54,
   "metadata": {},
   "outputs": [
    {
     "data": {
      "text/plain": [
       "<function matplotlib.pyplot.show(close=None, block=None)>"
      ]
     },
     "execution_count": 54,
     "metadata": {},
     "output_type": "execute_result"
    },
    {
     "data": {
      "image/png": "[encoded data removed]",
      "text/plain": [
       "<Figure size 640x480 with 1 Axes>"
      ]
     },
     "metadata": {},
     "output_type": "display_data"
    }
   ],
   "source": [
    "# Creates x array\n",
    "x = np.linspace(-10, 10, 100)\n",
    "# Creates y array from x\n",
    "y = ((x**2) * 2.5) + (x * 7) + 4.2\n",
    "\n",
    "# Creates the plot\n",
    "plt.plot(x,y,\"k--\")\n",
    "# Sets the plot labels\n",
    "plt.xlabel(\"x\")\n",
    "plt.ylabel(\"y\")\n",
    "# Displays the plot\n",
    "plt.show"
   ]
  },
  {
   "cell_type": "markdown",
   "metadata": {},
   "source": [
    "## Resources\n",
    "In addition to the resources mentioned throughout the document, the following might be useful for those with previous experience of Java and .NET \n",
    "\n",
    "Python for Java programmers: <br>\n",
    "https://medium.com/nestedif/cheatsheet-python-for-java-developers-98f75c94a1a <br>\n",
    "https://lobster1234.github.io/2017/05/25/python-java-primer/\n",
    "\n",
    "Python for .NET developers: <br>\n",
    "https://www.wintellect.com/python-jumpstart-for-dot-net-developers/\n"
   ]
  }
 ],
 "metadata": {
  "kernelspec": {
   "display_name": "Python 3 (ipykernel)",
   "language": "python",
   "name": "python3"
  },
  "language_info": {
   "codemirror_mode": {
    "name": "ipython",
    "version": 3
   },
   "file_extension": ".py",
   "mimetype": "text/x-python",
   "name": "python",
   "nbconvert_exporter": "python",
   "pygments_lexer": "ipython3",
   "version": "3.9.13"
  },
  "toc": {
   "colors": {
    "hover_highlight": "#DAA520",
    "navigate_num": "#000000",
    "navigate_text": "#333333",
    "running_highlight": "#FF0000",
    "selected_highlight": "#FFD700",
    "sidebar_border": "#EEEEEE",
    "wrapper_background": "#FFFFFF"
   },
   "moveMenuLeft": true,
   "nav_menu": {
    "height": "417.97px",
    "width": "252px"
   },
   "navigate_menu": true,
   "number_sections": true,
   "sideBar": true,
   "threshold": 4,
   "toc_cell": false,
   "toc_section_display": "block",
   "toc_window_display": false,
   "widenNotebook": false
  }
 },
 "nbformat": 4,
 "nbformat_minor": 4
}
